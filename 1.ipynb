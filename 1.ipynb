{
 "cells": [
  {
   "cell_type": "code",
   "execution_count": 8,
   "id": "ce42a7cd",
   "metadata": {},
   "outputs": [],
   "source": [
    "import matplotlib.pyplot as plt\n",
    "import matplotlib\n",
    "import numpy as np\n",
    "from numpy import ndarray\n",
    "%matplotlib inline\n",
    "\n",
    "from typing import Callable\n",
    "from typing import Dict"
   ]
  },
  {
   "cell_type": "code",
   "execution_count": 17,
   "id": "ef37dcb2",
   "metadata": {},
   "outputs": [],
   "source": [
    "def multiple_inputs_add_backward(x: ndarray,\n",
    "                                 y: ndarray,\n",
    "                                 sigma: Array_Function) -> float:\n",
    "    '''\n",
    "    Computes the derivative of this simple function with respect to\n",
    "    both inputs\n",
    "    '''\n",
    "    # Compute \"forward pass\"\n",
    "    a = x + y\n",
    "\n",
    "    # Compute derivatives\n",
    "    dsda = deriv(sigma, a)\n",
    "\n",
    "    dadx, dady = 1, 1\n",
    "\n",
    "    return dsda * dadx, dsda * dady"
   ]
  },
  {
   "cell_type": "code",
   "execution_count": 18,
   "id": "8771ca98",
   "metadata": {},
   "outputs": [],
   "source": [
    "def sigma(x: np.ndarray) -> np.ndarray:\n",
    "    return 1 / (1 + np.exp(-x))\n"
   ]
  },
  {
   "cell_type": "code",
   "execution_count": 19,
   "id": "ed9e0ba5",
   "metadata": {},
   "outputs": [],
   "source": [
    "def deriv(f: Array_Function, x: np.ndarray, h: float = 0.0001) -> np.ndarray:\n",
    "    return (f(x + h) - f(x - h)) / (2 * h)"
   ]
  },
  {
   "cell_type": "code",
   "execution_count": 20,
   "id": "fb0a02aa",
   "metadata": {},
   "outputs": [],
   "source": [
    "Array_Function = Callable[[np.ndarray], np.ndarray]\n"
   ]
  },
  {
   "cell_type": "code",
   "execution_count": 21,
   "id": "c86197b4",
   "metadata": {
    "scrolled": true
   },
   "outputs": [
    {
     "name": "stdout",
     "output_type": "stream",
     "text": [
      "(array([0.00664806, 0.00091022, 0.00012338]), array([0.00664806, 0.00091022, 0.00012338]))\n"
     ]
    }
   ],
   "source": [
    "x = np.array([1, 2, 3])\n",
    "y = np.array([4, 5, 6])\n",
    "\n",
    "result = multiple_inputs_add_backward(x, y, sigma)\n",
    "print(result)"
   ]
  },
  {
   "cell_type": "code",
   "execution_count": 22,
   "id": "152d9be1",
   "metadata": {},
   "outputs": [],
   "source": [
    "def multiple_inputs_multiply(x: ndarray,\n",
    "                             y: ndarray,\n",
    "                             sigma : Array_Function) -> float:\n",
    "    a = x*y\n",
    "    dsda = deriv(sigma, a)\n",
    "    dadx, dady = y,x\n",
    "    \n",
    "    return dsda * dadx, dsda*dady"
   ]
  },
  {
   "cell_type": "code",
   "execution_count": 23,
   "id": "7fb6b4d4",
   "metadata": {},
   "outputs": [
    {
     "data": {
      "text/plain": [
       "(array([7.06508250e-02, 2.26979036e-04, 9.13802367e-08]),\n",
       " array([1.76627062e-02, 9.07916142e-05, 4.56901184e-08]))"
      ]
     },
     "execution_count": 23,
     "metadata": {},
     "output_type": "execute_result"
    }
   ],
   "source": [
    "multiple_inputs_multiply(x,y,sigma)"
   ]
  }
 ],
 "metadata": {
  "kernelspec": {
   "display_name": "Python 3 (ipykernel)",
   "language": "python",
   "name": "python3"
  },
  "language_info": {
   "codemirror_mode": {
    "name": "ipython",
    "version": 3
   },
   "file_extension": ".py",
   "mimetype": "text/x-python",
   "name": "python",
   "nbconvert_exporter": "python",
   "pygments_lexer": "ipython3",
   "version": "3.9.13"
  }
 },
 "nbformat": 4,
 "nbformat_minor": 5
}
